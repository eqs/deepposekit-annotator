{
 "cells": [
  {
   "cell_type": "code",
   "execution_count": 1,
   "metadata": {},
   "outputs": [],
   "source": [
    "# from deepposekit import Annotator\n",
    "from dpk_annotator import Annotator\n",
    "from os.path import expanduser\n",
    "import glob\n",
    "home = expanduser(\"~\")"
   ]
  },
  {
   "cell_type": "code",
   "execution_count": 2,
   "metadata": {},
   "outputs": [
    {
     "data": {
      "text/plain": [
       "['/Users/jake/deepposekit-data/datasets/fly/annotation_data_release.h5',\n",
       " '/Users/jake/deepposekit-data/datasets/fly/example_annotation_set.h5',\n",
       " '/Users/jake/deepposekit-data/datasets/locust/annotation_data_release.h5',\n",
       " '/Users/jake/deepposekit-data/datasets/zebra/annotation_data_release.h5']"
      ]
     },
     "execution_count": 2,
     "metadata": {},
     "output_type": "execute_result"
    }
   ],
   "source": [
    "annotation_sets = glob.glob(home + '/deepposekit-data/datasets/*/*.h5')\n",
    "annotation_sets"
   ]
  },
  {
   "cell_type": "code",
   "execution_count": 3,
   "metadata": {},
   "outputs": [],
   "source": [
    "app = Annotator(datapath=annotation_sets[1],\n",
    "                dataset='images',\n",
    "                skeleton=home + '/deepposekit-data/datasets/fly/skeleton_initialized.csv',\n",
    "                shuffle_colors=False,\n",
    "                text_scale=0.2)"
   ]
  },
  {
   "cell_type": "code",
   "execution_count": 4,
   "metadata": {},
   "outputs": [
    {
     "name": "stdout",
     "output_type": "stream",
     "text": [
      "Saved\n"
     ]
    }
   ],
   "source": [
    "app.run()"
   ]
  },
  {
   "cell_type": "code",
   "execution_count": null,
   "metadata": {},
   "outputs": [],
   "source": []
  }
 ],
 "metadata": {
  "kernelspec": {
   "display_name": "Python 3",
   "language": "python",
   "name": "python3"
  },
  "language_info": {
   "codemirror_mode": {
    "name": "ipython",
    "version": 3
   },
   "file_extension": ".py",
   "mimetype": "text/x-python",
   "name": "python",
   "nbconvert_exporter": "python",
   "pygments_lexer": "ipython3",
   "version": "3.6.5"
  }
 },
 "nbformat": 4,
 "nbformat_minor": 2
}
